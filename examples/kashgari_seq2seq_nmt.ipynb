{
 "nbformat": 4,
 "nbformat_minor": 0,
 "metadata": {
  "accelerator": "GPU",
  "colab": {
   "name": "kashgari_seq2seq_nmt.ipynb",
   "provenance": [],
   "collapsed_sections": [],
   "toc_visible": true
  },
  "kernelspec": {
   "display_name": "Python 3",
   "language": "python",
   "name": "python3"
  },
  "language_info": {
   "codemirror_mode": {
    "name": "ipython",
    "version": 3
   },
   "file_extension": ".py",
   "mimetype": "text/x-python",
   "name": "python",
   "nbconvert_exporter": "python",
   "pygments_lexer": "ipython3",
   "version": "3.6.10"
  }
 },
 "cells": [
  {
   "cell_type": "markdown",
   "metadata": {
    "id": "lY2BrIyFKbAP",
    "colab_type": "text"
   },
   "source": [
    "# Install dependences"
   ]
  },
  {
   "cell_type": "code",
   "metadata": {
    "colab_type": "code",
    "id": "s7PWEKR7T2dn",
    "outputId": "48a2f541-dd56-46bb-8b9b-e6c92276be6e",
    "colab": {
     "base_uri": "https://localhost:8080/",
     "height": 909
    }
   },
   "source": [
    "# install the latest kashgari\n",
    "#!pip uninstall -y kashgari\n",
    "#!pip install git+https://github.com/BrikerMan/Kashgari@v2-dev\n",
    "!pip install hanziconv\n",
    "!pip install segtok"
   ],
   "execution_count": 17,
   "outputs": [
    {
     "output_type": "stream",
     "text": [
      "Uninstalling kashgari-2.0.0a0:\n",
      "  Successfully uninstalled kashgari-2.0.0a0\n",
      "Collecting git+https://github.com/BrikerMan/Kashgari@v2-dev\n",
      "  Cloning https://github.com/BrikerMan/Kashgari (to revision v2-dev) to /tmp/pip-req-build-xg1vfqpv\n",
      "  Running command git clone -q https://github.com/BrikerMan/Kashgari /tmp/pip-req-build-xg1vfqpv\n",
      "  Running command git checkout -b v2-dev --track origin/v2-dev\n",
      "  Switched to a new branch 'v2-dev'\n",
      "  Branch 'v2-dev' set up to track remote branch 'v2-dev' from 'origin'.\n",
      "Requirement already satisfied: numpy>=1.18.1 in /usr/local/lib/python3.6/dist-packages (from kashgari==2.0.0a0) (1.18.4)\n",
      "Requirement already satisfied: gensim>=3.8.1 in /usr/local/lib/python3.6/dist-packages (from kashgari==2.0.0a0) (3.8.3)\n",
      "Requirement already satisfied: pandas>=1.0.1 in /usr/local/lib/python3.6/dist-packages (from kashgari==2.0.0a0) (1.0.3)\n",
      "Requirement already satisfied: tqdm in /usr/local/lib/python3.6/dist-packages (from kashgari==2.0.0a0) (4.41.1)\n",
      "Requirement already satisfied: bert4keras>=0.7.5 in /usr/local/lib/python3.6/dist-packages (from kashgari==2.0.0a0) (0.7.7)\n",
      "Requirement already satisfied: scikit-learn>=0.21.1 in /usr/local/lib/python3.6/dist-packages (from kashgari==2.0.0a0) (0.22.2.post1)\n",
      "Requirement already satisfied: smart-open>=1.8.1 in /usr/local/lib/python3.6/dist-packages (from gensim>=3.8.1->kashgari==2.0.0a0) (2.0.0)\n",
      "Requirement already satisfied: six>=1.5.0 in /usr/local/lib/python3.6/dist-packages (from gensim>=3.8.1->kashgari==2.0.0a0) (1.12.0)\n",
      "Requirement already satisfied: scipy>=0.18.1 in /usr/local/lib/python3.6/dist-packages (from gensim>=3.8.1->kashgari==2.0.0a0) (1.4.1)\n",
      "Requirement already satisfied: python-dateutil>=2.6.1 in /usr/local/lib/python3.6/dist-packages (from pandas>=1.0.1->kashgari==2.0.0a0) (2.8.1)\n",
      "Requirement already satisfied: pytz>=2017.2 in /usr/local/lib/python3.6/dist-packages (from pandas>=1.0.1->kashgari==2.0.0a0) (2018.9)\n",
      "Requirement already satisfied: keras in /usr/local/lib/python3.6/dist-packages (from bert4keras>=0.7.5->kashgari==2.0.0a0) (2.3.1)\n",
      "Requirement already satisfied: joblib>=0.11 in /usr/local/lib/python3.6/dist-packages (from scikit-learn>=0.21.1->kashgari==2.0.0a0) (0.15.0)\n",
      "Requirement already satisfied: requests in /usr/local/lib/python3.6/dist-packages (from smart-open>=1.8.1->gensim>=3.8.1->kashgari==2.0.0a0) (2.23.0)\n",
      "Requirement already satisfied: boto3 in /usr/local/lib/python3.6/dist-packages (from smart-open>=1.8.1->gensim>=3.8.1->kashgari==2.0.0a0) (1.13.10)\n",
      "Requirement already satisfied: boto in /usr/local/lib/python3.6/dist-packages (from smart-open>=1.8.1->gensim>=3.8.1->kashgari==2.0.0a0) (2.49.0)\n",
      "Requirement already satisfied: keras-preprocessing>=1.0.5 in /usr/local/lib/python3.6/dist-packages (from keras->bert4keras>=0.7.5->kashgari==2.0.0a0) (1.1.2)\n",
      "Requirement already satisfied: h5py in /usr/local/lib/python3.6/dist-packages (from keras->bert4keras>=0.7.5->kashgari==2.0.0a0) (2.10.0)\n",
      "Requirement already satisfied: pyyaml in /usr/local/lib/python3.6/dist-packages (from keras->bert4keras>=0.7.5->kashgari==2.0.0a0) (3.13)\n",
      "Requirement already satisfied: keras-applications>=1.0.6 in /usr/local/lib/python3.6/dist-packages (from keras->bert4keras>=0.7.5->kashgari==2.0.0a0) (1.0.8)\n",
      "Requirement already satisfied: urllib3!=1.25.0,!=1.25.1,<1.26,>=1.21.1 in /usr/local/lib/python3.6/dist-packages (from requests->smart-open>=1.8.1->gensim>=3.8.1->kashgari==2.0.0a0) (1.24.3)\n",
      "Requirement already satisfied: certifi>=2017.4.17 in /usr/local/lib/python3.6/dist-packages (from requests->smart-open>=1.8.1->gensim>=3.8.1->kashgari==2.0.0a0) (2020.4.5.1)\n",
      "Requirement already satisfied: idna<3,>=2.5 in /usr/local/lib/python3.6/dist-packages (from requests->smart-open>=1.8.1->gensim>=3.8.1->kashgari==2.0.0a0) (2.9)\n",
      "Requirement already satisfied: chardet<4,>=3.0.2 in /usr/local/lib/python3.6/dist-packages (from requests->smart-open>=1.8.1->gensim>=3.8.1->kashgari==2.0.0a0) (3.0.4)\n",
      "Requirement already satisfied: s3transfer<0.4.0,>=0.3.0 in /usr/local/lib/python3.6/dist-packages (from boto3->smart-open>=1.8.1->gensim>=3.8.1->kashgari==2.0.0a0) (0.3.3)\n",
      "Requirement already satisfied: jmespath<1.0.0,>=0.7.1 in /usr/local/lib/python3.6/dist-packages (from boto3->smart-open>=1.8.1->gensim>=3.8.1->kashgari==2.0.0a0) (0.10.0)\n",
      "Requirement already satisfied: botocore<1.17.0,>=1.16.10 in /usr/local/lib/python3.6/dist-packages (from boto3->smart-open>=1.8.1->gensim>=3.8.1->kashgari==2.0.0a0) (1.16.10)\n",
      "Requirement already satisfied: docutils<0.16,>=0.10 in /usr/local/lib/python3.6/dist-packages (from botocore<1.17.0,>=1.16.10->boto3->smart-open>=1.8.1->gensim>=3.8.1->kashgari==2.0.0a0) (0.15.2)\n",
      "Building wheels for collected packages: kashgari\n",
      "  Building wheel for kashgari (setup.py) ... \u001B[?25l\u001B[?25hdone\n",
      "  Created wheel for kashgari: filename=kashgari-2.0.0a0-cp36-none-any.whl size=76877 sha256=4efbfddb4bd9aeb76ea1c88d79e32322df6476fc18a8ad539a770ca2da42a2cd\n",
      "  Stored in directory: /tmp/pip-ephem-wheel-cache-5u7oa3ha/wheels/a9/03/76/529f1de0a5a77e3953f62283da282f8f9ae35273876cf8e535\n",
      "Successfully built kashgari\n",
      "Installing collected packages: kashgari\n",
      "Successfully installed kashgari-2.0.0a0\n"
     ],
     "name": "stdout"
    },
    {
     "output_type": "display_data",
     "data": {
      "application/vnd.colab-display-data+json": {
       "pip_warning": {
        "packages": [
         "kashgari"
        ]
       }
      }
     },
     "metadata": {
      "tags": []
     }
    },
    {
     "output_type": "stream",
     "text": [
      "Requirement already satisfied: hanziconv in /usr/local/lib/python3.6/dist-packages (0.3.2)\n",
      "Requirement already satisfied: segtok in /usr/local/lib/python3.6/dist-packages (1.5.10)\n",
      "Requirement already satisfied: regex in /usr/local/lib/python3.6/dist-packages (from segtok) (2019.12.20)\n"
     ],
     "name": "stdout"
    }
   ]
  },
  {
   "cell_type": "markdown",
   "metadata": {
    "colab_type": "text",
    "id": "wfodePkj3jEa"
   },
   "source": [
    "## Download and prepare the dataset\n",
    "\n",
    "We'll use a language dataset provided by http://www.manythings.org/anki/ This dataset contains language translation pairs in the format:\n",
    "\n",
    "```\n",
    "I'm on Tom's side.\t我站在湯姆一邊。\tCC-BY 2.0 (France) Attribution: tatoeba.org #2549046 (CK) & #6065739 (verdastelo9604)\n",
    "```\n",
    "\n",
    "There are a variety of languages available, but we'll use the English-Chinese dataset. After downloading the dataset, here are the steps we'll take to prepare the data:\n",
    "\n",
    "1. Add a start and end token to each sentence.\n",
    "2. Clean the sentences by removing special characters."
   ]
  },
  {
   "cell_type": "code",
   "metadata": {
    "colab_type": "code",
    "id": "kRVATYOgJs1b",
    "colab": {}
   },
   "source": [
    "# Setup data path\n",
    "DATA_PATH = 'cmn.txt'"
   ],
   "execution_count": 0,
   "outputs": []
  },
  {
   "cell_type": "code",
   "metadata": {
    "colab_type": "code",
    "id": "rd0jw-eC3jEh",
    "colab": {
     "base_uri": "https://localhost:8080/",
     "height": 204
    },
    "outputId": "7ef69d66-7079-4b82-d54f-866c9356b448"
   },
   "source": [
    "import pandas as pd\n",
    "from hanziconv import HanziConv\n",
    "from segtok.tokenizer import word_tokenizer\n",
    "\n",
    "import tensorflow as tf\n",
    "\n",
    "df = pd.read_csv(DATA_PATH, header=None, sep='\\t')\n",
    "\n",
    "df.columns = ['en', 'cn', 'cc']\n",
    "\n",
    "df['cn'] = df['cn'].apply(lambda x: HanziConv.toSimplified(x))\n",
    "df['en_cutted'] = df['en'].apply(lambda x: word_tokenizer(x.lower()))\n",
    "df['cn_cutted'] = df['cn'].apply(lambda x: list(x))\n",
    "df.head()"
   ],
   "execution_count": 2,
   "outputs": [
    {
     "output_type": "execute_result",
     "data": {
      "text/html": [
       "<div>\n",
       "<style scoped>\n",
       "    .dataframe tbody tr th:only-of-type {\n",
       "        vertical-align: middle;\n",
       "    }\n",
       "\n",
       "    .dataframe tbody tr th {\n",
       "        vertical-align: top;\n",
       "    }\n",
       "\n",
       "    .dataframe thead th {\n",
       "        text-align: right;\n",
       "    }\n",
       "</style>\n",
       "<table border=\"1\" class=\"dataframe\">\n",
       "  <thead>\n",
       "    <tr style=\"text-align: right;\">\n",
       "      <th></th>\n",
       "      <th>en</th>\n",
       "      <th>cn</th>\n",
       "      <th>cc</th>\n",
       "      <th>en_cutted</th>\n",
       "      <th>cn_cutted</th>\n",
       "    </tr>\n",
       "  </thead>\n",
       "  <tbody>\n",
       "    <tr>\n",
       "      <th>0</th>\n",
       "      <td>Hi.</td>\n",
       "      <td>嗨。</td>\n",
       "      <td>CC-BY 2.0 (France) Attribution: tatoeba.org #5...</td>\n",
       "      <td>[hi, .]</td>\n",
       "      <td>[嗨, 。]</td>\n",
       "    </tr>\n",
       "    <tr>\n",
       "      <th>1</th>\n",
       "      <td>Hi.</td>\n",
       "      <td>你好。</td>\n",
       "      <td>CC-BY 2.0 (France) Attribution: tatoeba.org #5...</td>\n",
       "      <td>[hi, .]</td>\n",
       "      <td>[你, 好, 。]</td>\n",
       "    </tr>\n",
       "    <tr>\n",
       "      <th>2</th>\n",
       "      <td>Run.</td>\n",
       "      <td>你用跑的。</td>\n",
       "      <td>CC-BY 2.0 (France) Attribution: tatoeba.org #4...</td>\n",
       "      <td>[run, .]</td>\n",
       "      <td>[你, 用, 跑, 的, 。]</td>\n",
       "    </tr>\n",
       "    <tr>\n",
       "      <th>3</th>\n",
       "      <td>Wait!</td>\n",
       "      <td>等等！</td>\n",
       "      <td>CC-BY 2.0 (France) Attribution: tatoeba.org #1...</td>\n",
       "      <td>[wait, !]</td>\n",
       "      <td>[等, 等, ！]</td>\n",
       "    </tr>\n",
       "    <tr>\n",
       "      <th>4</th>\n",
       "      <td>Wait!</td>\n",
       "      <td>等一下！</td>\n",
       "      <td>CC-BY 2.0 (France) Attribution: tatoeba.org #1...</td>\n",
       "      <td>[wait, !]</td>\n",
       "      <td>[等, 一, 下, ！]</td>\n",
       "    </tr>\n",
       "  </tbody>\n",
       "</table>\n",
       "</div>"
      ],
      "text/plain": [
       "      en     cn  ...  en_cutted        cn_cutted\n",
       "0    Hi.     嗨。  ...    [hi, .]           [嗨, 。]\n",
       "1    Hi.    你好。  ...    [hi, .]        [你, 好, 。]\n",
       "2   Run.  你用跑的。  ...   [run, .]  [你, 用, 跑, 的, 。]\n",
       "3  Wait!    等等！  ...  [wait, !]        [等, 等, ！]\n",
       "4  Wait!   等一下！  ...  [wait, !]     [等, 一, 下, ！]\n",
       "\n",
       "[5 rows x 5 columns]"
      ]
     },
     "metadata": {
      "tags": []
     },
     "execution_count": 2
    }
   ]
  },
  {
   "cell_type": "code",
   "metadata": {
    "id": "xrWZxnucKbAc",
    "colab_type": "code",
    "colab": {
     "base_uri": "https://localhost:8080/",
     "height": 68
    },
    "outputId": "49a70cb8-2927-4599-d4c3-231e6d4ed7ce"
   },
   "source": [
    "input_datas = df['en_cutted'].values\n",
    "target_datas = df['cn_cutted'].values\n",
    "\n",
    "print(f'Input sentence samples  : {input_datas[:3]}')\n",
    "print(f'Output sentence samples : {target_datas[:3]}')\n",
    "print(f'Total sentence count    : {len(input_datas)}')"
   ],
   "execution_count": 3,
   "outputs": [
    {
     "output_type": "stream",
     "text": [
      "Input sentence samples  : [list(['hi', '.']) list(['hi', '.']) list(['run', '.'])]\n",
      "Output sentence samples : [list(['嗨', '。']) list(['你', '好', '。']) list(['你', '用', '跑', '的', '。'])]\n",
      "Total sentence count    : 22075\n"
     ],
     "name": "stdout"
    }
   ]
  },
  {
   "cell_type": "markdown",
   "metadata": {
    "id": "WGS-prwHKbAf",
    "colab_type": "text"
   },
   "source": [
    "## Build model and fit"
   ]
  },
  {
   "cell_type": "code",
   "metadata": {
    "colab_type": "code",
    "id": "W-12T_VzK_Cr",
    "colab": {
     "base_uri": "https://localhost:8080/",
     "height": 34
    },
    "outputId": "75bff18e-3a9d-4025-8822-58331a1fc31c"
   },
   "source": [
    "from kashgari.tasks.seq2seq.model import Seq2Seq\n",
    "model = Seq2Seq()"
   ],
   "execution_count": 4,
   "outputs": [
    {
     "output_type": "stream",
     "text": [
      "Seq2Seq API is experimental. It may be changed in the future without notice.\n"
     ],
     "name": "stderr"
    }
   ]
  },
  {
   "cell_type": "code",
   "metadata": {
    "id": "oo5EeREsKbAi",
    "colab_type": "code",
    "colab": {}
   },
   "source": [
    "class CustomCallback(tf.keras.callbacks.Callback):\n",
    "    def __init__(self, model):\n",
    "        self.model = model\n",
    "        self.sample_count = 5\n",
    "\n",
    "    def on_epoch_end(self, epoch, logs=None):\n",
    "        import random\n",
    "        samples = random.sample(list(input_datas), self.sample_count)\n",
    "        translates, _ = self.model.predict(samples)\n",
    "        print()\n",
    "        for index in range(len(samples)):\n",
    "            print(f\"English: {' '.join(samples[index])}\")\n",
    "            print(f\"Chinese: {''.join(translates[index])}\")\n",
    "            print('------------------------------')"
   ],
   "execution_count": 0,
   "outputs": []
  },
  {
   "cell_type": "code",
   "metadata": {
    "colab_type": "code",
    "id": "XPK8ghW0LNdn",
    "colab": {}
   },
   "source": [
    "his_callback = CustomCallback(model)\n",
    "history = model.fit(input_datas,\n",
    "                    target_datas,\n",
    "                    callbacks=[his_callback],\n",
    "                    epochs=20,\n",
    "                    batch_size=64)"
   ],
   "execution_count": 0,
   "outputs": []
  },
  {
   "cell_type": "code",
   "metadata": {
    "colab_type": "code",
    "id": "bF3kv_IlN1rK",
    "outputId": "e6da8a46-e05d-44f2-b64a-ecc1061f9a2e",
    "colab": {
     "base_uri": "https://localhost:8080/",
     "height": 714
    }
   },
   "source": [
    "import random\n",
    "x = random.sample(list(input_datas), 5)\n",
    "transalte, attention = model.predict(x, debug_info=True)\n",
    "\n",
    "for i in range(len(x)):\n",
    "    print(f\"{' '.join(x[i]):<40} -> {''.join(transalte[i])}\")"
   ],
   "execution_count": 31,
   "outputs": [
    {
     "output_type": "stream",
     "text": [
      "\n",
      "---------------------------\n",
      "input sentence  : i went there because i wanted to .\n",
      "input idx       : [  2   6 136  51 304   6 251   7   4   3   0   0   0   0   0   0   0   0\n",
      "   0   0   0   0   0   0   0   0   0   0   0   0   0   0   0   0]\n",
      "output idx      : [5, 32, 37, 124, 308, 42, 5, 36, 26]\n",
      "output sentence : 我 去 那 儿 因 为 我 想\n",
      "\n",
      "---------------------------\n",
      "input sentence  : do they love each other ?\n",
      "input idx       : [  2  23  54 187 529 260  10   3   0   0   0   0   0   0   0   0   0   0\n",
      "   0   0   0   0   0   0   0   0   0   0   0   0   0   0   0   0]\n",
      "output idx      : [9, 16, 1270, 533, 141, 109, 22, 14]\n",
      "output sentence : 他 们 彼 此 相 信 吗\n",
      "\n",
      "---------------------------\n",
      "input sentence  : i told tom i was ok .\n",
      "input idx       : [  2   6 169  13   6  24 828   4   3   0   0   0   0   0   0   0   0   0\n",
      "   0   0   0   0   0   0   0   0   0   0   0   0   0   0   0   0]\n",
      "output idx      : [5, 122, 155, 19, 20, 43, 25, 38, 4]\n",
      "output sentence : 我 告 诉 汤 姆 说 很 好\n",
      "\n",
      "---------------------------\n",
      "input sentence  : she isn't afraid of death .\n",
      "input idx       : [  2  18 151 220  15 620   4   3   0   0   0   0   0   0   0   0   0   0\n",
      "   0   0   0   0   0   0   0   0   0   0   0   0   0   0   0   0]\n",
      "output idx      : [21, 10, 309, 293, 4]\n",
      "output sentence : 她 不 怕 死\n",
      "\n",
      "---------------------------\n",
      "input sentence  : he was made captain .\n",
      "input idx       : [   2   12   24   94 1421    4    3    0    0    0    0    0    0    0\n",
      "    0    0    0    0    0    0    0    0    0    0    0    0    0    0\n",
      "    0    0    0    0    0    0]\n",
      "output idx      : [9, 128, 453, 42, 641, 172, 4]\n",
      "output sentence : 他 被 选 为 队 长\n",
      "i went there because i wanted to .       -> 我去那儿因为我想\n",
      "do they love each other ?                -> 他们彼此相信吗\n",
      "i told tom i was ok .                    -> 我告诉汤姆说很好\n",
      "she isn't afraid of death .              -> 她不怕死\n",
      "he was made captain .                    -> 他被选为队长\n"
     ],
     "name": "stdout"
    }
   ]
  },
  {
   "cell_type": "markdown",
   "metadata": {
    "id": "ZkBG4u5SKbAt",
    "colab_type": "text"
   },
   "source": [
    "## Visualize\n",
    "\n",
    "In order to render Chinese, need to install Chinese characters (on Ubuntu / Colab)."
   ]
  },
  {
   "cell_type": "code",
   "metadata": {
    "id": "e9AGkfOSKbAt",
    "colab_type": "code",
    "colab": {
     "base_uri": "https://localhost:8080/",
     "height": 272
    },
    "outputId": "2490775d-21eb-4824-e515-4e36b4a853f2"
   },
   "source": [
    "# Download the target font\n",
    "!wget \"https://www.wfonts.com/download/data/2014/06/01/simhei/simhei.zip\"\n",
    "!unzip \"simhei.zip\"\n",
    "!mv SimHei.ttf /usr/share/fonts/truetype/"
   ],
   "execution_count": 14,
   "outputs": [
    {
     "output_type": "stream",
     "text": [
      "--2020-05-20 14:56:11--  https://www.wfonts.com/download/data/2014/06/01/simhei/simhei.zip\n",
      "Resolving www.wfonts.com (www.wfonts.com)... 104.225.219.210\n",
      "Connecting to www.wfonts.com (www.wfonts.com)|104.225.219.210|:443... connected.\n",
      "HTTP request sent, awaiting response... 200 OK\n",
      "Length: 10546298 (10M) [application/octetstream]\n",
      "Saving to: ‘simhei.zip’\n",
      "\n",
      "simhei.zip          100%[===================>]  10.06M  6.88MB/s    in 1.5s    \n",
      "\n",
      "2020-05-20 14:56:14 (6.88 MB/s) - ‘simhei.zip’ saved [10546298/10546298]\n",
      "\n",
      "Archive:  simhei.zip\n",
      "  inflating: chinese.simhei.ttf      \n",
      "  inflating: SimHei.ttf              \n",
      "  inflating: sharefonts.net.txt      \n"
     ],
     "name": "stdout"
    }
   ]
  },
  {
   "cell_type": "code",
   "metadata": {
    "id": "V6XidIXbKbAv",
    "colab_type": "code",
    "colab": {}
   },
   "source": [
    "# function for plotting the attention weights\n",
    "from matplotlib import font_manager\n",
    "import matplotlib.pyplot as plt\n",
    "import matplotlib.ticker as ticker\n",
    "\n",
    "%matplotlib inline\n",
    "\n",
    "font_name = 'SIMHEI'\n",
    "plt.rcParams['font.family'] = font_name #用来正常显示中文标签\n",
    "plt.rcParams['axes.unicode_minus']=False #用来正常显示负号\n",
    "zhfont = font_manager.FontProperties(fname='/usr/share/fonts/truetype/SimHei.ttf')\n",
    "\n",
    "# 如果绘制图表不清晰，可以设置高 dpi 来提高图表清晰度\n",
    "plt.rcParams['figure.dpi'] = 120"
   ],
   "execution_count": 0,
   "outputs": []
  },
  {
   "cell_type": "code",
   "execution_count": null,
   "outputs": [],
   "source": [
    "plt.figure(figsize=(5,5))\n",
    "plt.plot(history.history['loss'])\n",
    "plt.xlabel('Epoch')\n",
    "plt.ylabel('Loss')\n",
    "plt.show()"
   ],
   "metadata": {
    "collapsed": false,
    "pycharm": {
     "name": "#%%\n"
    }
   }
  },
  {
   "cell_type": "code",
   "metadata": {
    "colab_type": "code",
    "id": "BzsEF_Cw3ji_",
    "colab": {}
   },
   "source": [
    "def plot_attention(attention, sentence, predicted_sentence):\n",
    "    attention = attention[:,:max(len(sentence), len(predicted_sentence))]\n",
    "    fig = plt.figure(figsize=(5,5))\n",
    "    ax = fig.add_subplot(1, 1, 1)\n",
    "    ax.matshow(attention, cmap='viridis')\n",
    "\n",
    "    font_dict = {'fontsize': 14}\n",
    "\n",
    "    ax.set_xticklabels([''] + sentence, fontdict=font_dict, rotation=90, fontproperties=zhfont)\n",
    "    ax.set_yticklabels([''] + predicted_sentence, fontdict=font_dict, fontproperties=zhfont)\n",
    "\n",
    "    ax.xaxis.set_major_locator(ticker.MultipleLocator(1))\n",
    "    ax.yaxis.set_major_locator(ticker.MultipleLocator(1))\n",
    "\n",
    "    plt.show()"
   ],
   "execution_count": 0,
   "outputs": []
  },
  {
   "cell_type": "code",
   "metadata": {
    "colab_type": "code",
    "id": "APgut8LW3kGt",
    "colab": {}
   },
   "source": [
    "def translate_with_plot(sentence):\n",
    "    translates, attentions = model.predict([sentence], max_len=10)\n",
    "    plot_attention(attentions[0], sentence, translates[0])\n",
    "    print(f\"{' '.join(sentence):<40} -> {''.join(translates[0])}\")"
   ],
   "execution_count": 0,
   "outputs": []
  },
  {
   "cell_type": "code",
   "metadata": {
    "id": "mPjIwROgKbA4",
    "colab_type": "code",
    "colab": {
     "base_uri": "https://localhost:8080/",
     "height": 598
    },
    "outputId": "8e18a11f-a6a0-45b3-dd4e-f25738e1ab6b"
   },
   "source": [
    "translate_with_plot(\"she isn't afraid of death\".split(' '))"
   ],
   "execution_count": 64,
   "outputs": [
    {
     "output_type": "display_data",
     "data": {
      "image/png": "[encoded data removed]",
      "text/plain": [
       "<Figure size 600x600 with 1 Axes>"
      ]
     },
     "metadata": {
      "tags": [],
      "needs_background": "light"
     }
    },
    {
     "output_type": "stream",
     "text": [
      "she isn't afraid of death                -> 她不怕\n"
     ],
     "name": "stdout"
    }
   ]
  },
  {
   "cell_type": "code",
   "metadata": {
    "id": "4dYug4sBKbA7",
    "colab_type": "code",
    "colab": {
     "base_uri": "https://localhost:8080/",
     "height": 1000
    },
    "outputId": "bcf6c281-9b58-4bd3-f15c-40aa167bd272"
   },
   "source": [
    "import random\n",
    "\n",
    "for sentence in random.sample(list(input_datas), 5):\n",
    "    translate_with_plot(sentence)"
   ],
   "execution_count": 66,
   "outputs": [
    {
     "output_type": "display_data",
     "data": {
      "image/png": "[encoded data removed]",
      "text/plain": [
       "<Figure size 600x600 with 1 Axes>"
      ]
     },
     "metadata": {
      "tags": [],
      "needs_background": "light"
     }
    },
    {
     "output_type": "stream",
     "text": [
      "tom is in the house .                    -> 汤姆在房子里\n"
     ],
     "name": "stdout"
    },
    {
     "output_type": "display_data",
     "data": {
      "image/png": "[encoded data removed]",
      "text/plain": [
       "<Figure size 600x600 with 1 Axes>"
      ]
     },
     "metadata": {
      "tags": [],
      "needs_background": "light"
     }
    },
    {
     "output_type": "stream",
     "text": [
      "tom was wrong .                          -> 汤姆错了\n"
     ],
     "name": "stdout"
    },
    {
     "output_type": "display_data",
     "data": {
      "image/png": "[encoded data removed]",
      "text/plain": [
       "<Figure size 600x600 with 1 Axes>"
      ]
     },
     "metadata": {
      "tags": [],
      "needs_background": "light"
     }
    },
    {
     "output_type": "stream",
     "text": [
      "i thought i could be of some help .      -> 我本以为我能帮忙\n"
     ],
     "name": "stdout"
    },
    {
     "output_type": "display_data",
     "data": {
      "image/png": "[encoded data removed]",
      "text/plain": [
       "<Figure size 600x600 with 1 Axes>"
      ]
     },
     "metadata": {
      "tags": [],
      "needs_background": "light"
     }
    },
    {
     "output_type": "stream",
     "text": [
      "she despised him .                       -> 她很他很他\n"
     ],
     "name": "stdout"
    },
    {
     "output_type": "display_data",
     "data": {
      "image/png": "[encoded data removed]",
      "text/plain": [
       "<Figure size 600x600 with 1 Axes>"
      ]
     },
     "metadata": {
      "tags": [],
      "needs_background": "light"
     }
    },
    {
     "output_type": "stream",
     "text": [
      "you look just like your mother .         -> 你看起来像你的母\n"
     ],
     "name": "stdout"
    }
   ]
  }
 ]
}